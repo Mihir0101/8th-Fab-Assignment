{
 "cells": [
  {
   "cell_type": "markdown",
   "id": "0f952f05-5dde-4585-a81c-5e4ae61c1cc1",
   "metadata": {},
   "source": [
    "# 8th Fab Assignment"
   ]
  },
  {
   "cell_type": "code",
   "execution_count": null,
   "id": "c5d71419-a9db-48b9-8061-5227539d83ac",
   "metadata": {},
   "outputs": [],
   "source": []
  },
  {
   "cell_type": "markdown",
   "id": "366a83d9-3963-4f0a-83b7-601093426865",
   "metadata": {},
   "source": [
    "Q1. What is Abstraction in OOps? Explain with an example."
   ]
  },
  {
   "cell_type": "markdown",
   "id": "52be8eb3-6aee-40be-86f9-422a277ebf75",
   "metadata": {},
   "source": [
    "--> Abstraction is a way of representing complex real-world systems in a simplified manner.\n",
    "\n",
    "\n",
    "* Example \n",
    "\n",
    "--> Let't take a example of car.A car contain some parts like engine,brakes,steering,etc.The driver who wants to drive a car, the         details of this parts are not neccesary for him/her.The driver just needs to know how to drive the car with the use of some basic     features.\n",
    "\n",
    "--> Abstraction works similarly to that.It creat classes that hide the internal comlexity and allow only neccesary features through       well-defined interface."
   ]
  },
  {
   "cell_type": "code",
   "execution_count": null,
   "id": "e0db86c1-a987-4b59-ac7b-f3b56ef922ad",
   "metadata": {},
   "outputs": [],
   "source": []
  },
  {
   "cell_type": "markdown",
   "id": "43f7fdfd-44b7-4abd-9d60-42a2e110ff87",
   "metadata": {},
   "source": [
    "Q2. Differentiate between Abstraction and Encapsulation. Explain with an example."
   ]
  },
  {
   "cell_type": "markdown",
   "id": "d4aefc13-f934-4d9f-a614-acc67eb7b256",
   "metadata": {},
   "source": [
    "--> Abstraction is a method for hiding the implimentation details.It is achiving by define the absract class.\n",
    "    on othe side Encapsulation is used for hiding the implimentation details of objects from the outside world.\n",
    "    \n",
    "* Example\n",
    "\n",
    "--> We can take a example of bank.\n",
    "\n",
    "--> Let's take abstraction for this example.With the use of absraction we can define the classes of all details,because of that we can     hide the complexity and provide better use of those details.In other words it provides simplicity.\n",
    "\n",
    "--> Let's take encapsulation for this examle.Encapsulation is used to encrypt the details like password of account etc,from the outer world.In other words it provides privacy."
   ]
  },
  {
   "cell_type": "code",
   "execution_count": null,
   "id": "bab62ed3-5781-4c3e-a694-2723525a1eab",
   "metadata": {},
   "outputs": [],
   "source": []
  },
  {
   "cell_type": "markdown",
   "id": "39df7649-e332-47b1-9435-9191c48b0d5a",
   "metadata": {},
   "source": [
    "Q3. What is abc module in python? Why is it used?"
   ]
  },
  {
   "cell_type": "markdown",
   "id": "fea4bb02-ff83-4747-9ba0-1049c40aab4c",
   "metadata": {},
   "source": [
    "->> The abc module in Python stands for Abstract Base Classes. It provides a way to define abstract classes in Python, which are           classes that cannot be instantiated on their own and need to be subclassed to provide a concrete implementation of the abstract       methods.\n",
    "\n",
    "\n",
    "\n",
    "--> The abc module is used to create abstract base classes and enforce certain methods or properties that must be implemented by           subclasses. This is particularly useful when designing large systems that involve many related classes, and you want to ensure         that certain methods or properties are implemented consistently across all of them.\n",
    "\n"
   ]
  },
  {
   "cell_type": "code",
   "execution_count": null,
   "id": "202e47b1-1a64-40ff-b5c0-32d8c740b353",
   "metadata": {},
   "outputs": [],
   "source": []
  },
  {
   "cell_type": "markdown",
   "id": "67f1192d-7f1f-4f8c-a0dc-adddf3e523cd",
   "metadata": {},
   "source": [
    "Q4. How can we achieve data abstraction?"
   ]
  },
  {
   "cell_type": "markdown",
   "id": "afb7b443-ae09-4eae-a9e0-dbe9971d637d",
   "metadata": {},
   "source": [
    "* With the use of following steps we can achieve data abstraction.\n",
    "\n",
    "--> Define a class that represents the data you want to abstract. The class should encapsulate the data and provide methods to access     and manipulate the data. These methods should provide a simplified interface for the user and hide the implementation details.\n",
    "\n",
    "--> Define an interface that represents the public methods of the class. This interface should contain only the necessary methods that     the user needs to work with the data. By using an interface, you can ensure that the user only interacts with the data in a safe       and controlled way.\n",
    "\n",
    "--> Make the class implement the interface. This will ensure that the class provides all the necessary methods defined in the             interface.\n",
    "\n",
    "--> Use the interface to work with the data. By using the interface, you can access the data in a consistent and predictable way,         without worrying about the implementation details of the class."
   ]
  },
  {
   "cell_type": "code",
   "execution_count": null,
   "id": "ab1ceecf-ce5f-4312-a175-5c98585a2ce0",
   "metadata": {},
   "outputs": [],
   "source": []
  },
  {
   "cell_type": "markdown",
   "id": "fa8d094e-2097-4d69-a877-196f6d4f2a34",
   "metadata": {},
   "source": [
    "Q5. Can we create an instance of an abstract class? Explain your answer."
   ]
  },
  {
   "cell_type": "markdown",
   "id": "810a57e5-6f46-4676-a55f-1efea1b66652",
   "metadata": {},
   "source": [
    "--> No, we cannot create an instance of an abstract class in Python.\n",
    "\n",
    "--> An abstract class is a class that contains one or more abstract methods, which are methods that have been declared but not             implemented. Abstract classes are meant to be subclassed, and the abstract methods must be implemented by the subclass.\n",
    "\n",
    "--> Attempting to create an instance of an abstract class in Python will result in a TypeError. "
   ]
  }
 ],
 "metadata": {
  "kernelspec": {
   "display_name": "Python 3 (ipykernel)",
   "language": "python",
   "name": "python3"
  },
  "language_info": {
   "codemirror_mode": {
    "name": "ipython",
    "version": 3
   },
   "file_extension": ".py",
   "mimetype": "text/x-python",
   "name": "python",
   "nbconvert_exporter": "python",
   "pygments_lexer": "ipython3",
   "version": "3.10.8"
  }
 },
 "nbformat": 4,
 "nbformat_minor": 5
}
